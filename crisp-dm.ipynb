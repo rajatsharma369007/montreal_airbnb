{
 "cells": [
  {
   "cell_type": "markdown",
   "metadata": {},
   "source": [
    "### Importing Libraries"
   ]
  },
  {
   "cell_type": "code",
   "execution_count": 1,
   "metadata": {},
   "outputs": [],
   "source": [
    "import numpy as np\n",
    "import pandas as pd\n",
    "import seaborn as sns\n",
    "import matplotlib.pyplot as plt"
   ]
  },
  {
   "cell_type": "code",
   "execution_count": 2,
   "metadata": {},
   "outputs": [],
   "source": [
    "from pandas.plotting import register_matplotlib_converters\n",
    "register_matplotlib_converters()"
   ]
  },
  {
   "cell_type": "markdown",
   "metadata": {},
   "source": [
    "### Which season is best for promotion and advertisement of Airbnb?"
   ]
  },
  {
   "cell_type": "markdown",
   "metadata": {},
   "source": [
    "### Reading Calendar Dataset"
   ]
  },
  {
   "cell_type": "code",
   "execution_count": 3,
   "metadata": {},
   "outputs": [
    {
     "data": {
      "text/html": [
       "<div>\n",
       "<style scoped>\n",
       "    .dataframe tbody tr th:only-of-type {\n",
       "        vertical-align: middle;\n",
       "    }\n",
       "\n",
       "    .dataframe tbody tr th {\n",
       "        vertical-align: top;\n",
       "    }\n",
       "\n",
       "    .dataframe thead th {\n",
       "        text-align: right;\n",
       "    }\n",
       "</style>\n",
       "<table border=\"1\" class=\"dataframe\">\n",
       "  <thead>\n",
       "    <tr style=\"text-align: right;\">\n",
       "      <th></th>\n",
       "      <th>listing_id</th>\n",
       "      <th>date</th>\n",
       "      <th>available</th>\n",
       "      <th>price</th>\n",
       "      <th>adjusted_price</th>\n",
       "      <th>minimum_nights</th>\n",
       "      <th>maximum_nights</th>\n",
       "    </tr>\n",
       "  </thead>\n",
       "  <tbody>\n",
       "    <tr>\n",
       "      <th>0</th>\n",
       "      <td>164087</td>\n",
       "      <td>2019-03-11</td>\n",
       "      <td>t</td>\n",
       "      <td>$75.00</td>\n",
       "      <td>$75.00</td>\n",
       "      <td>1</td>\n",
       "      <td>25</td>\n",
       "    </tr>\n",
       "    <tr>\n",
       "      <th>1</th>\n",
       "      <td>2078</td>\n",
       "      <td>2019-03-11</td>\n",
       "      <td>f</td>\n",
       "      <td>$38.00</td>\n",
       "      <td>$38.00</td>\n",
       "      <td>2</td>\n",
       "      <td>7</td>\n",
       "    </tr>\n",
       "    <tr>\n",
       "      <th>2</th>\n",
       "      <td>2078</td>\n",
       "      <td>2019-03-12</td>\n",
       "      <td>f</td>\n",
       "      <td>$38.00</td>\n",
       "      <td>$38.00</td>\n",
       "      <td>2</td>\n",
       "      <td>7</td>\n",
       "    </tr>\n",
       "    <tr>\n",
       "      <th>3</th>\n",
       "      <td>2078</td>\n",
       "      <td>2019-03-13</td>\n",
       "      <td>f</td>\n",
       "      <td>$38.00</td>\n",
       "      <td>$38.00</td>\n",
       "      <td>2</td>\n",
       "      <td>7</td>\n",
       "    </tr>\n",
       "    <tr>\n",
       "      <th>4</th>\n",
       "      <td>2078</td>\n",
       "      <td>2019-03-14</td>\n",
       "      <td>f</td>\n",
       "      <td>$38.00</td>\n",
       "      <td>$38.00</td>\n",
       "      <td>2</td>\n",
       "      <td>7</td>\n",
       "    </tr>\n",
       "    <tr>\n",
       "      <th>5</th>\n",
       "      <td>2078</td>\n",
       "      <td>2019-03-15</td>\n",
       "      <td>f</td>\n",
       "      <td>$38.00</td>\n",
       "      <td>$38.00</td>\n",
       "      <td>2</td>\n",
       "      <td>7</td>\n",
       "    </tr>\n",
       "    <tr>\n",
       "      <th>6</th>\n",
       "      <td>2078</td>\n",
       "      <td>2019-03-16</td>\n",
       "      <td>f</td>\n",
       "      <td>$38.00</td>\n",
       "      <td>$38.00</td>\n",
       "      <td>2</td>\n",
       "      <td>7</td>\n",
       "    </tr>\n",
       "    <tr>\n",
       "      <th>7</th>\n",
       "      <td>2078</td>\n",
       "      <td>2019-03-17</td>\n",
       "      <td>f</td>\n",
       "      <td>$38.00</td>\n",
       "      <td>$38.00</td>\n",
       "      <td>2</td>\n",
       "      <td>7</td>\n",
       "    </tr>\n",
       "    <tr>\n",
       "      <th>8</th>\n",
       "      <td>2078</td>\n",
       "      <td>2019-03-18</td>\n",
       "      <td>f</td>\n",
       "      <td>$38.00</td>\n",
       "      <td>$38.00</td>\n",
       "      <td>2</td>\n",
       "      <td>7</td>\n",
       "    </tr>\n",
       "    <tr>\n",
       "      <th>9</th>\n",
       "      <td>2078</td>\n",
       "      <td>2019-03-19</td>\n",
       "      <td>f</td>\n",
       "      <td>$38.00</td>\n",
       "      <td>$38.00</td>\n",
       "      <td>2</td>\n",
       "      <td>7</td>\n",
       "    </tr>\n",
       "  </tbody>\n",
       "</table>\n",
       "</div>"
      ],
      "text/plain": [
       "   listing_id        date available   price adjusted_price  minimum_nights  \\\n",
       "0      164087  2019-03-11         t  $75.00         $75.00               1   \n",
       "1        2078  2019-03-11         f  $38.00         $38.00               2   \n",
       "2        2078  2019-03-12         f  $38.00         $38.00               2   \n",
       "3        2078  2019-03-13         f  $38.00         $38.00               2   \n",
       "4        2078  2019-03-14         f  $38.00         $38.00               2   \n",
       "5        2078  2019-03-15         f  $38.00         $38.00               2   \n",
       "6        2078  2019-03-16         f  $38.00         $38.00               2   \n",
       "7        2078  2019-03-17         f  $38.00         $38.00               2   \n",
       "8        2078  2019-03-18         f  $38.00         $38.00               2   \n",
       "9        2078  2019-03-19         f  $38.00         $38.00               2   \n",
       "\n",
       "   maximum_nights  \n",
       "0              25  \n",
       "1               7  \n",
       "2               7  \n",
       "3               7  \n",
       "4               7  \n",
       "5               7  \n",
       "6               7  \n",
       "7               7  \n",
       "8               7  \n",
       "9               7  "
      ]
     },
     "execution_count": 3,
     "metadata": {},
     "output_type": "execute_result"
    }
   ],
   "source": [
    "cal_df = pd.read_csv('./dataset/calendar.csv')\n",
    "cal_df.head(10)"
   ]
  },
  {
   "cell_type": "markdown",
   "metadata": {},
   "source": [
    "### Number of attributes in the dataframe"
   ]
  },
  {
   "cell_type": "code",
   "execution_count": 4,
   "metadata": {},
   "outputs": [
    {
     "data": {
      "text/plain": [
       "['listing_id',\n",
       " 'date',\n",
       " 'available',\n",
       " 'price',\n",
       " 'adjusted_price',\n",
       " 'minimum_nights',\n",
       " 'maximum_nights']"
      ]
     },
     "execution_count": 4,
     "metadata": {},
     "output_type": "execute_result"
    }
   ],
   "source": [
    "list(cal_df.columns)"
   ]
  },
  {
   "cell_type": "markdown",
   "metadata": {},
   "source": [
    "### Determining the sample size"
   ]
  },
  {
   "cell_type": "code",
   "execution_count": 5,
   "metadata": {},
   "outputs": [
    {
     "data": {
      "text/plain": [
       "'2019-03-11'"
      ]
     },
     "execution_count": 5,
     "metadata": {},
     "output_type": "execute_result"
    }
   ],
   "source": [
    "cal_df['date'].min()"
   ]
  },
  {
   "cell_type": "code",
   "execution_count": 6,
   "metadata": {},
   "outputs": [
    {
     "data": {
      "text/plain": [
       "'2020-03-09'"
      ]
     },
     "execution_count": 6,
     "metadata": {},
     "output_type": "execute_result"
    }
   ],
   "source": [
    "cal_df['date'].max()"
   ]
  },
  {
   "cell_type": "markdown",
   "metadata": {},
   "source": [
    "### Checking any null values in the dataframe"
   ]
  },
  {
   "cell_type": "code",
   "execution_count": 7,
   "metadata": {},
   "outputs": [
    {
     "data": {
      "text/plain": [
       "listing_id        0\n",
       "date              0\n",
       "available         0\n",
       "price             0\n",
       "adjusted_price    0\n",
       "minimum_nights    0\n",
       "maximum_nights    0\n",
       "dtype: int64"
      ]
     },
     "execution_count": 7,
     "metadata": {},
     "output_type": "execute_result"
    }
   ],
   "source": [
    "cal_df.isnull().sum()"
   ]
  },
  {
   "cell_type": "code",
   "execution_count": 8,
   "metadata": {},
   "outputs": [
    {
     "data": {
      "text/html": [
       "<div>\n",
       "<style scoped>\n",
       "    .dataframe tbody tr th:only-of-type {\n",
       "        vertical-align: middle;\n",
       "    }\n",
       "\n",
       "    .dataframe tbody tr th {\n",
       "        vertical-align: top;\n",
       "    }\n",
       "\n",
       "    .dataframe thead th {\n",
       "        text-align: right;\n",
       "    }\n",
       "</style>\n",
       "<table border=\"1\" class=\"dataframe\">\n",
       "  <thead>\n",
       "    <tr style=\"text-align: right;\">\n",
       "      <th></th>\n",
       "      <th>date</th>\n",
       "      <th>listing_id</th>\n",
       "      <th>month</th>\n",
       "      <th>day</th>\n",
       "    </tr>\n",
       "  </thead>\n",
       "  <tbody>\n",
       "    <tr>\n",
       "      <th>0</th>\n",
       "      <td>2019-03-11</td>\n",
       "      <td>17039</td>\n",
       "      <td>Mar</td>\n",
       "      <td>11</td>\n",
       "    </tr>\n",
       "    <tr>\n",
       "      <th>1</th>\n",
       "      <td>2019-03-12</td>\n",
       "      <td>15762</td>\n",
       "      <td>Mar</td>\n",
       "      <td>12</td>\n",
       "    </tr>\n",
       "    <tr>\n",
       "      <th>2</th>\n",
       "      <td>2019-03-13</td>\n",
       "      <td>15154</td>\n",
       "      <td>Mar</td>\n",
       "      <td>13</td>\n",
       "    </tr>\n",
       "    <tr>\n",
       "      <th>3</th>\n",
       "      <td>2019-03-14</td>\n",
       "      <td>14894</td>\n",
       "      <td>Mar</td>\n",
       "      <td>14</td>\n",
       "    </tr>\n",
       "    <tr>\n",
       "      <th>4</th>\n",
       "      <td>2019-03-15</td>\n",
       "      <td>15012</td>\n",
       "      <td>Mar</td>\n",
       "      <td>15</td>\n",
       "    </tr>\n",
       "    <tr>\n",
       "      <th>5</th>\n",
       "      <td>2019-03-16</td>\n",
       "      <td>14876</td>\n",
       "      <td>Mar</td>\n",
       "      <td>16</td>\n",
       "    </tr>\n",
       "    <tr>\n",
       "      <th>6</th>\n",
       "      <td>2019-03-17</td>\n",
       "      <td>13788</td>\n",
       "      <td>Mar</td>\n",
       "      <td>17</td>\n",
       "    </tr>\n",
       "    <tr>\n",
       "      <th>7</th>\n",
       "      <td>2019-03-18</td>\n",
       "      <td>13381</td>\n",
       "      <td>Mar</td>\n",
       "      <td>18</td>\n",
       "    </tr>\n",
       "    <tr>\n",
       "      <th>8</th>\n",
       "      <td>2019-03-19</td>\n",
       "      <td>13360</td>\n",
       "      <td>Mar</td>\n",
       "      <td>19</td>\n",
       "    </tr>\n",
       "    <tr>\n",
       "      <th>9</th>\n",
       "      <td>2019-03-20</td>\n",
       "      <td>13390</td>\n",
       "      <td>Mar</td>\n",
       "      <td>20</td>\n",
       "    </tr>\n",
       "  </tbody>\n",
       "</table>\n",
       "</div>"
      ],
      "text/plain": [
       "        date  listing_id month  day\n",
       "0 2019-03-11       17039   Mar   11\n",
       "1 2019-03-12       15762   Mar   12\n",
       "2 2019-03-13       15154   Mar   13\n",
       "3 2019-03-14       14894   Mar   14\n",
       "4 2019-03-15       15012   Mar   15\n",
       "5 2019-03-16       14876   Mar   16\n",
       "6 2019-03-17       13788   Mar   17\n",
       "7 2019-03-18       13381   Mar   18\n",
       "8 2019-03-19       13360   Mar   19\n",
       "9 2019-03-20       13390   Mar   20"
      ]
     },
     "execution_count": 8,
     "metadata": {},
     "output_type": "execute_result"
    }
   ],
   "source": [
    "# changing the datatype of date attribute\n",
    "cal_df['date'] = pd.to_datetime(cal_df['date'])\n",
    "\n",
    "season = cal_df[cal_df['available']=='f']\n",
    "season = season.groupby('date')['listing_id'].count().reset_index()\n",
    "season['month'] = season['date'].dt.strftime('%b')\n",
    "season['day'] = season['date'].dt.day\n",
    "\n",
    "season.head(10)"
   ]
  },
  {
   "cell_type": "markdown",
   "metadata": {},
   "source": [
    "### Plotting the whole season"
   ]
  },
  {
   "cell_type": "code",
   "execution_count": 9,
   "metadata": {},
   "outputs": [
    {
     "data": {
      "image/png": "[encoded data removed]",
      "text/plain": [
       "<Figure size 432x288 with 1 Axes>"
      ]
     },
     "metadata": {
      "needs_background": "light"
     },
     "output_type": "display_data"
    }
   ],
   "source": [
    "plt.plot(season['date'], season['listing_id'])\n",
    "plt.title('Booking Demand')\n",
    "plt.xlabel('date')\n",
    "plt.xticks(rotation='vertical')\n",
    "plt.ylabel('listing');"
   ]
  },
  {
   "cell_type": "markdown",
   "metadata": {},
   "source": [
    "From above plot, I can conclude that the season becomes low around late '2019-04' to late '2019-06' and then around early '2019-07 to late '2019-09'. I can't tell about the latter part as I don't know whether this is saturated value or not. I need more data to conclude that thing."
   ]
  },
  {
   "cell_type": "markdown",
   "metadata": {},
   "source": [
    "### Dividing seasons based on dips\n",
    "Based on the above plot, I divided the whole season into 3 sub season based the the dips in the demand"
   ]
  },
  {
   "cell_type": "code",
   "execution_count": 10,
   "metadata": {},
   "outputs": [],
   "source": [
    "season['weekday'] = season['date'].dt.weekday_name\n",
    "\n",
    "sub_season_1 = season[(season['date']>='2019-03-11')& \\\n",
    "                      (season['date']<='2019-06-08')]\n",
    "sub_season_2 = season[(season['date']>='2019-06-09')& \\\n",
    "                      (season['date']<='2019-09-06')]\n",
    "sub_season_3 = season[(season['date']>='2019-09-07')& \\\n",
    "                      (season['date']<='2020-03-09')]"
   ]
  },
  {
   "cell_type": "markdown",
   "metadata": {},
   "source": [
    "### Boxplot for each cluster"
   ]
  },
  {
   "cell_type": "markdown",
   "metadata": {},
   "source": [
    "#### Sub-Season I"
   ]
  },
  {
   "cell_type": "code",
   "execution_count": 11,
   "metadata": {},
   "outputs": [
    {
     "data": {
      "image/png": "[encoded data removed]",
      "text/plain": [
       "<Figure size 432x288 with 1 Axes>"
      ]
     },
     "metadata": {
      "needs_background": "light"
     },
     "output_type": "display_data"
    }
   ],
   "source": [
    "sns.violinplot(x='weekday', y='listing_id', data=sub_season_1, inner = 'quartile')\n",
    "plt.xticks(rotation='vertical')\n",
    "plt.show()"
   ]
  },
  {
   "cell_type": "markdown",
   "metadata": {},
   "source": [
    "#### Sub-Season II"
   ]
  },
  {
   "cell_type": "code",
   "execution_count": 12,
   "metadata": {},
   "outputs": [
    {
     "data": {
      "image/png": "[encoded data removed]",
      "text/plain": [
       "<Figure size 432x288 with 1 Axes>"
      ]
     },
     "metadata": {
      "needs_background": "light"
     },
     "output_type": "display_data"
    }
   ],
   "source": [
    "sns.violinplot(x='weekday', y='listing_id', data=sub_season_2, inner = 'quartile')\n",
    "plt.xticks(rotation='vertical')\n",
    "plt.show()"
   ]
  },
  {
   "cell_type": "markdown",
   "metadata": {},
   "source": [
    "#### Sub-Season III"
   ]
  },
  {
   "cell_type": "code",
   "execution_count": 13,
   "metadata": {
    "scrolled": true
   },
   "outputs": [
    {
     "data": {
      "image/png": "[encoded data removed]",
      "text/plain": [
       "<Figure size 432x288 with 1 Axes>"
      ]
     },
     "metadata": {
      "needs_background": "light"
     },
     "output_type": "display_data"
    }
   ],
   "source": [
    "sns.violinplot(x='weekday', y='listing_id', data=sub_season_3, inner = 'quartile')\n",
    "plt.xticks(rotation='vertical')\n",
    "plt.show()"
   ]
  },
  {
   "cell_type": "markdown",
   "metadata": {},
   "source": [
    "In season I, we can see that the demand for bookings is low for ['Monday', 'Tuesday', 'Wednesday', 'Sunday']. In season II, the demand is low for ['Monday', 'Tuesday', 'Wednesday', 'Sunday']. In season III, it is low for ['Wednesday', 'Thursday'].\n",
    "\n",
    "Overall, we need to focus on advertisements and promotions during the period of \"2019-04\" to \"2019-09\". During this period, we will target the audience only on ['Monday', 'Tuesday', 'Wednesday', 'Sunday']."
   ]
  },
  {
   "cell_type": "markdown",
   "metadata": {},
   "source": [
    "### Which Montreal area has best rooms available?"
   ]
  },
  {
   "cell_type": "markdown",
   "metadata": {},
   "source": [
    "### Reading dataset"
   ]
  },
  {
   "cell_type": "code",
   "execution_count": 14,
   "metadata": {},
   "outputs": [
    {
     "data": {
      "text/html": [
       "<div>\n",
       "<style scoped>\n",
       "    .dataframe tbody tr th:only-of-type {\n",
       "        vertical-align: middle;\n",
       "    }\n",
       "\n",
       "    .dataframe tbody tr th {\n",
       "        vertical-align: top;\n",
       "    }\n",
       "\n",
       "    .dataframe thead th {\n",
       "        text-align: right;\n",
       "    }\n",
       "</style>\n",
       "<table border=\"1\" class=\"dataframe\">\n",
       "  <thead>\n",
       "    <tr style=\"text-align: right;\">\n",
       "      <th></th>\n",
       "      <th>id</th>\n",
       "      <th>listing_url</th>\n",
       "      <th>scrape_id</th>\n",
       "      <th>last_scraped</th>\n",
       "      <th>name</th>\n",
       "      <th>summary</th>\n",
       "      <th>space</th>\n",
       "      <th>description</th>\n",
       "      <th>experiences_offered</th>\n",
       "      <th>neighborhood_overview</th>\n",
       "      <th>...</th>\n",
       "      <th>instant_bookable</th>\n",
       "      <th>is_business_travel_ready</th>\n",
       "      <th>cancellation_policy</th>\n",
       "      <th>require_guest_profile_picture</th>\n",
       "      <th>require_guest_phone_verification</th>\n",
       "      <th>calculated_host_listings_count</th>\n",
       "      <th>calculated_host_listings_count_entire_homes</th>\n",
       "      <th>calculated_host_listings_count_private_rooms</th>\n",
       "      <th>calculated_host_listings_count_shared_rooms</th>\n",
       "      <th>reviews_per_month</th>\n",
       "    </tr>\n",
       "  </thead>\n",
       "  <tbody>\n",
       "    <tr>\n",
       "      <th>0</th>\n",
       "      <td>2078</td>\n",
       "      <td>https://www.airbnb.com/rooms/2078</td>\n",
       "      <td>20190311061246</td>\n",
       "      <td>2019-03-11</td>\n",
       "      <td>Central comfy close to Metro Laurie</td>\n",
       "      <td>Centrally located in trendy Le Plateau.   Join...</td>\n",
       "      <td>Centrally located  clean comfy furnished room ...</td>\n",
       "      <td>Centrally located in trendy Le Plateau.   Join...</td>\n",
       "      <td>none</td>\n",
       "      <td>Although my place is centrally located in Le P...</td>\n",
       "      <td>...</td>\n",
       "      <td>t</td>\n",
       "      <td>f</td>\n",
       "      <td>flexible</td>\n",
       "      <td>f</td>\n",
       "      <td>f</td>\n",
       "      <td>1</td>\n",
       "      <td>0</td>\n",
       "      <td>1</td>\n",
       "      <td>0</td>\n",
       "      <td>2.68</td>\n",
       "    </tr>\n",
       "    <tr>\n",
       "      <th>1</th>\n",
       "      <td>2843</td>\n",
       "      <td>https://www.airbnb.com/rooms/2843</td>\n",
       "      <td>20190311061246</td>\n",
       "      <td>2019-03-11</td>\n",
       "      <td>Fabulous downtown room</td>\n",
       "      <td>Come stay in this trendy area of downtown Mont...</td>\n",
       "      <td>Private individual room, double bed, desk, goo...</td>\n",
       "      <td>Come stay in this trendy area of downtown Mont...</td>\n",
       "      <td>none</td>\n",
       "      <td>This area of St Henri is actually downtown Mon...</td>\n",
       "      <td>...</td>\n",
       "      <td>t</td>\n",
       "      <td>f</td>\n",
       "      <td>moderate</td>\n",
       "      <td>f</td>\n",
       "      <td>f</td>\n",
       "      <td>6</td>\n",
       "      <td>3</td>\n",
       "      <td>3</td>\n",
       "      <td>0</td>\n",
       "      <td>0.96</td>\n",
       "    </tr>\n",
       "    <tr>\n",
       "      <th>2</th>\n",
       "      <td>14584</td>\n",
       "      <td>https://www.airbnb.com/rooms/14584</td>\n",
       "      <td>20190311061246</td>\n",
       "      <td>2019-03-11</td>\n",
       "      <td>Spread Out in 1,200 Square Feet of Luxury in t...</td>\n",
       "      <td>This stylish and spacious loft has modern artw...</td>\n",
       "      <td>It's artistic and tasteful with a modern touch...</td>\n",
       "      <td>This stylish and spacious loft has modern artw...</td>\n",
       "      <td>none</td>\n",
       "      <td>This chic apartment can be found in the Platea...</td>\n",
       "      <td>...</td>\n",
       "      <td>f</td>\n",
       "      <td>f</td>\n",
       "      <td>strict_14_with_grace_period</td>\n",
       "      <td>f</td>\n",
       "      <td>f</td>\n",
       "      <td>1</td>\n",
       "      <td>1</td>\n",
       "      <td>0</td>\n",
       "      <td>0</td>\n",
       "      <td>1.50</td>\n",
       "    </tr>\n",
       "    <tr>\n",
       "      <th>3</th>\n",
       "      <td>29059</td>\n",
       "      <td>https://www.airbnb.com/rooms/29059</td>\n",
       "      <td>20190311061246</td>\n",
       "      <td>2019-03-11</td>\n",
       "      <td>Lovely studio Quartier Latin</td>\n",
       "      <td>Lovely studio with 1 closed room, near everyth...</td>\n",
       "      <td>Lovely studio with 1 closed room, near everyth...</td>\n",
       "      <td>Lovely studio with 1 closed room, near everyth...</td>\n",
       "      <td>none</td>\n",
       "      <td>CENTRAL est le mot d'ordre : tout est proche. ...</td>\n",
       "      <td>...</td>\n",
       "      <td>f</td>\n",
       "      <td>f</td>\n",
       "      <td>moderate</td>\n",
       "      <td>f</td>\n",
       "      <td>f</td>\n",
       "      <td>2</td>\n",
       "      <td>2</td>\n",
       "      <td>0</td>\n",
       "      <td>0</td>\n",
       "      <td>2.57</td>\n",
       "    </tr>\n",
       "    <tr>\n",
       "      <th>4</th>\n",
       "      <td>29061</td>\n",
       "      <td>https://www.airbnb.com/rooms/29061</td>\n",
       "      <td>20190311061246</td>\n",
       "      <td>2019-03-11</td>\n",
       "      <td>Maison historique - Quartier Latin</td>\n",
       "      <td>Charmante maison au coeur du Quartier Latin et...</td>\n",
       "      <td>Lovely historic house with plenty of period ch...</td>\n",
       "      <td>Charmante maison au coeur du Quartier Latin et...</td>\n",
       "      <td>none</td>\n",
       "      <td>Le quartier que vous découvrirez se nomme le Q...</td>\n",
       "      <td>...</td>\n",
       "      <td>t</td>\n",
       "      <td>f</td>\n",
       "      <td>moderate</td>\n",
       "      <td>f</td>\n",
       "      <td>f</td>\n",
       "      <td>2</td>\n",
       "      <td>2</td>\n",
       "      <td>0</td>\n",
       "      <td>0</td>\n",
       "      <td>0.52</td>\n",
       "    </tr>\n",
       "  </tbody>\n",
       "</table>\n",
       "<p>5 rows × 106 columns</p>\n",
       "</div>"
      ],
      "text/plain": [
       "      id                         listing_url       scrape_id last_scraped  \\\n",
       "0   2078   https://www.airbnb.com/rooms/2078  20190311061246   2019-03-11   \n",
       "1   2843   https://www.airbnb.com/rooms/2843  20190311061246   2019-03-11   \n",
       "2  14584  https://www.airbnb.com/rooms/14584  20190311061246   2019-03-11   \n",
       "3  29059  https://www.airbnb.com/rooms/29059  20190311061246   2019-03-11   \n",
       "4  29061  https://www.airbnb.com/rooms/29061  20190311061246   2019-03-11   \n",
       "\n",
       "                                                name  \\\n",
       "0                Central comfy close to Metro Laurie   \n",
       "1                             Fabulous downtown room   \n",
       "2  Spread Out in 1,200 Square Feet of Luxury in t...   \n",
       "3                       Lovely studio Quartier Latin   \n",
       "4                 Maison historique - Quartier Latin   \n",
       "\n",
       "                                             summary  \\\n",
       "0  Centrally located in trendy Le Plateau.   Join...   \n",
       "1  Come stay in this trendy area of downtown Mont...   \n",
       "2  This stylish and spacious loft has modern artw...   \n",
       "3  Lovely studio with 1 closed room, near everyth...   \n",
       "4  Charmante maison au coeur du Quartier Latin et...   \n",
       "\n",
       "                                               space  \\\n",
       "0  Centrally located  clean comfy furnished room ...   \n",
       "1  Private individual room, double bed, desk, goo...   \n",
       "2  It's artistic and tasteful with a modern touch...   \n",
       "3  Lovely studio with 1 closed room, near everyth...   \n",
       "4  Lovely historic house with plenty of period ch...   \n",
       "\n",
       "                                         description experiences_offered  \\\n",
       "0  Centrally located in trendy Le Plateau.   Join...                none   \n",
       "1  Come stay in this trendy area of downtown Mont...                none   \n",
       "2  This stylish and spacious loft has modern artw...                none   \n",
       "3  Lovely studio with 1 closed room, near everyth...                none   \n",
       "4  Charmante maison au coeur du Quartier Latin et...                none   \n",
       "\n",
       "                               neighborhood_overview  ... instant_bookable  \\\n",
       "0  Although my place is centrally located in Le P...  ...                t   \n",
       "1  This area of St Henri is actually downtown Mon...  ...                t   \n",
       "2  This chic apartment can be found in the Platea...  ...                f   \n",
       "3  CENTRAL est le mot d'ordre : tout est proche. ...  ...                f   \n",
       "4  Le quartier que vous découvrirez se nomme le Q...  ...                t   \n",
       "\n",
       "  is_business_travel_ready          cancellation_policy  \\\n",
       "0                        f                     flexible   \n",
       "1                        f                     moderate   \n",
       "2                        f  strict_14_with_grace_period   \n",
       "3                        f                     moderate   \n",
       "4                        f                     moderate   \n",
       "\n",
       "  require_guest_profile_picture require_guest_phone_verification  \\\n",
       "0                             f                                f   \n",
       "1                             f                                f   \n",
       "2                             f                                f   \n",
       "3                             f                                f   \n",
       "4                             f                                f   \n",
       "\n",
       "   calculated_host_listings_count  \\\n",
       "0                               1   \n",
       "1                               6   \n",
       "2                               1   \n",
       "3                               2   \n",
       "4                               2   \n",
       "\n",
       "   calculated_host_listings_count_entire_homes  \\\n",
       "0                                            0   \n",
       "1                                            3   \n",
       "2                                            1   \n",
       "3                                            2   \n",
       "4                                            2   \n",
       "\n",
       "  calculated_host_listings_count_private_rooms  \\\n",
       "0                                            1   \n",
       "1                                            3   \n",
       "2                                            0   \n",
       "3                                            0   \n",
       "4                                            0   \n",
       "\n",
       "   calculated_host_listings_count_shared_rooms  reviews_per_month  \n",
       "0                                            0               2.68  \n",
       "1                                            0               0.96  \n",
       "2                                            0               1.50  \n",
       "3                                            0               2.57  \n",
       "4                                            0               0.52  \n",
       "\n",
       "[5 rows x 106 columns]"
      ]
     },
     "execution_count": 14,
     "metadata": {},
     "output_type": "execute_result"
    }
   ],
   "source": [
    "list_df = pd.read_csv('./dataset/listings.csv')\n",
    "list_df.head()"
   ]
  },
  {
   "cell_type": "code",
   "execution_count": 15,
   "metadata": {},
   "outputs": [
    {
     "data": {
      "text/plain": [
       "['id',\n",
       " 'listing_url',\n",
       " 'scrape_id',\n",
       " 'last_scraped',\n",
       " 'name',\n",
       " 'summary',\n",
       " 'space',\n",
       " 'description',\n",
       " 'experiences_offered',\n",
       " 'neighborhood_overview',\n",
       " 'notes',\n",
       " 'transit',\n",
       " 'access',\n",
       " 'interaction',\n",
       " 'house_rules',\n",
       " 'thumbnail_url',\n",
       " 'medium_url',\n",
       " 'picture_url',\n",
       " 'xl_picture_url',\n",
       " 'host_id',\n",
       " 'host_url',\n",
       " 'host_name',\n",
       " 'host_since',\n",
       " 'host_location',\n",
       " 'host_about',\n",
       " 'host_response_time',\n",
       " 'host_response_rate',\n",
       " 'host_acceptance_rate',\n",
       " 'host_is_superhost',\n",
       " 'host_thumbnail_url',\n",
       " 'host_picture_url',\n",
       " 'host_neighbourhood',\n",
       " 'host_listings_count',\n",
       " 'host_total_listings_count',\n",
       " 'host_verifications',\n",
       " 'host_has_profile_pic',\n",
       " 'host_identity_verified',\n",
       " 'street',\n",
       " 'neighbourhood',\n",
       " 'neighbourhood_cleansed',\n",
       " 'neighbourhood_group_cleansed',\n",
       " 'city',\n",
       " 'state',\n",
       " 'zipcode',\n",
       " 'market',\n",
       " 'smart_location',\n",
       " 'country_code',\n",
       " 'country',\n",
       " 'latitude',\n",
       " 'longitude',\n",
       " 'is_location_exact',\n",
       " 'property_type',\n",
       " 'room_type',\n",
       " 'accommodates',\n",
       " 'bathrooms',\n",
       " 'bedrooms',\n",
       " 'beds',\n",
       " 'bed_type',\n",
       " 'amenities',\n",
       " 'square_feet',\n",
       " 'price',\n",
       " 'weekly_price',\n",
       " 'monthly_price',\n",
       " 'security_deposit',\n",
       " 'cleaning_fee',\n",
       " 'guests_included',\n",
       " 'extra_people',\n",
       " 'minimum_nights',\n",
       " 'maximum_nights',\n",
       " 'minimum_minimum_nights',\n",
       " 'maximum_minimum_nights',\n",
       " 'minimum_maximum_nights',\n",
       " 'maximum_maximum_nights',\n",
       " 'minimum_nights_avg_ntm',\n",
       " 'maximum_nights_avg_ntm',\n",
       " 'calendar_updated',\n",
       " 'has_availability',\n",
       " 'availability_30',\n",
       " 'availability_60',\n",
       " 'availability_90',\n",
       " 'availability_365',\n",
       " 'calendar_last_scraped',\n",
       " 'number_of_reviews',\n",
       " 'number_of_reviews_ltm',\n",
       " 'first_review',\n",
       " 'last_review',\n",
       " 'review_scores_rating',\n",
       " 'review_scores_accuracy',\n",
       " 'review_scores_cleanliness',\n",
       " 'review_scores_checkin',\n",
       " 'review_scores_communication',\n",
       " 'review_scores_location',\n",
       " 'review_scores_value',\n",
       " 'requires_license',\n",
       " 'license',\n",
       " 'jurisdiction_names',\n",
       " 'instant_bookable',\n",
       " 'is_business_travel_ready',\n",
       " 'cancellation_policy',\n",
       " 'require_guest_profile_picture',\n",
       " 'require_guest_phone_verification',\n",
       " 'calculated_host_listings_count',\n",
       " 'calculated_host_listings_count_entire_homes',\n",
       " 'calculated_host_listings_count_private_rooms',\n",
       " 'calculated_host_listings_count_shared_rooms',\n",
       " 'reviews_per_month']"
      ]
     },
     "execution_count": 15,
     "metadata": {},
     "output_type": "execute_result"
    }
   ],
   "source": [
    "list(list_df.columns)"
   ]
  },
  {
   "cell_type": "markdown",
   "metadata": {},
   "source": [
    "From the above list, I think features like (host_is_superhost, zipcode, reviews_per_month) would be appropriate for finding out the insights related to best rooms."
   ]
  },
  {
   "cell_type": "markdown",
   "metadata": {},
   "source": [
    "### Checking null values"
   ]
  },
  {
   "cell_type": "code",
   "execution_count": 16,
   "metadata": {},
   "outputs": [
    {
     "data": {
      "text/plain": [
       "host_is_superhost       1\n",
       "zipcode               372\n",
       "reviews_per_month    4275\n",
       "dtype: int64"
      ]
     },
     "execution_count": 16,
     "metadata": {},
     "output_type": "execute_result"
    }
   ],
   "source": [
    "list_df[['host_is_superhost','zipcode', 'reviews_per_month']].isnull().sum()"
   ]
  },
  {
   "cell_type": "markdown",
   "metadata": {},
   "source": [
    "### Dropping null values"
   ]
  },
  {
   "cell_type": "code",
   "execution_count": 17,
   "metadata": {},
   "outputs": [],
   "source": [
    "list_df = list_df.dropna(subset=['host_is_superhost','zipcode', 'reviews_per_month'], axis=0)"
   ]
  },
  {
   "cell_type": "markdown",
   "metadata": {},
   "source": [
    "### Insights based on number of reviews"
   ]
  },
  {
   "cell_type": "code",
   "execution_count": 18,
   "metadata": {},
   "outputs": [
    {
     "data": {
      "image/png": "[encoded data removed]",
      "text/plain": [
       "<Figure size 432x288 with 1 Axes>"
      ]
     },
     "metadata": {
      "needs_background": "light"
     },
     "output_type": "display_data"
    },
    {
     "data": {
      "image/png": "[encoded data removed]",
      "text/plain": [
       "<Figure size 432x288 with 1 Axes>"
      ]
     },
     "metadata": {
      "needs_background": "light"
     },
     "output_type": "display_data"
    }
   ],
   "source": [
    "grouped_list_df = list_df.groupby('zipcode')['reviews_per_month'].count().sort_values(ascending=False).reset_index()\n",
    "grouped_list_df = grouped_list_df.head(10)\n",
    "grouped_list_df = grouped_list_df.sort_values(by=['zipcode'])\n",
    "\n",
    "sns.barplot(data=grouped_list_df, x='zipcode', y='reviews_per_month')\n",
    "plt.xticks(rotation='vertical')\n",
    "plt.show()\n",
    "\n",
    "sub_list_df = list_df.loc[list_df['zipcode'].isin(grouped_list_df['zipcode'])]\n",
    "sub_list_df = sub_list_df.sort_values(by=['zipcode'])\n",
    "sns.boxplot(data=sub_list_df, x='zipcode', y='reviews_per_month')\n",
    "plt.xticks(rotation='vertical')\n",
    "plt.show()"
   ]
  },
  {
   "cell_type": "markdown",
   "metadata": {},
   "source": [
    "In this case, barplot will play a major role. We can conclude that 'H2X' has highest number of reviews according to both barplot and boxplot (most of the reviews is considered as outliers but it useful). 'H2Y 0A8' comes at second place and 'H3H' comes at third place for best rooms based on numbers of reviews. "
   ]
  },
  {
   "cell_type": "markdown",
   "metadata": {},
   "source": [
    "### Insights based on total number of reviewed scores"
   ]
  },
  {
   "cell_type": "code",
   "execution_count": 19,
   "metadata": {},
   "outputs": [
    {
     "data": {
      "image/png": "[encoded data removed]",
      "text/plain": [
       "<Figure size 432x288 with 1 Axes>"
      ]
     },
     "metadata": {
      "needs_background": "light"
     },
     "output_type": "display_data"
    },
    {
     "data": {
      "image/png": "[encoded data removed]",
      "text/plain": [
       "<Figure size 432x288 with 1 Axes>"
      ]
     },
     "metadata": {
      "needs_background": "light"
     },
     "output_type": "display_data"
    }
   ],
   "source": [
    "grouped_list_df = list_df.groupby('zipcode')['reviews_per_month'].sum().sort_values(ascending=False).reset_index()\n",
    "grouped_list_df = grouped_list_df.head(10)\n",
    "grouped_list_df = grouped_list_df.sort_values(by=['zipcode'])\n",
    "\n",
    "sns.barplot(data=grouped_list_df, x='zipcode', y='reviews_per_month')\n",
    "plt.xticks(rotation='vertical')\n",
    "plt.show()\n",
    "\n",
    "sub_list_df = list_df.loc[list_df['zipcode'].isin(grouped_list_df['zipcode'])]\n",
    "sub_list_df = sub_list_df.sort_values(by=['zipcode'])\n",
    "sns.boxplot(data=sub_list_df, x='zipcode', y='reviews_per_month')\n",
    "plt.xticks(rotation='vertical')\n",
    "plt.show()"
   ]
  },
  {
   "cell_type": "markdown",
   "metadata": {},
   "source": [
    "In this case, boxplot will play a major role. In barplot, it looks 'H2Y 0A8' has highest score, but in boxplot 'H2X' has some reviews having high scores. 'H2Y 0A8' has high number of good reviews. For (H2Y 0A6, H2Y 1S6), they have good number of good reviews. "
   ]
  },
  {
   "cell_type": "markdown",
   "metadata": {},
   "source": [
    "### Insights based of number of superhost"
   ]
  },
  {
   "cell_type": "code",
   "execution_count": 20,
   "metadata": {},
   "outputs": [
    {
     "data": {
      "image/png": "[encoded data removed]",
      "text/plain": [
       "<Figure size 432x288 with 1 Axes>"
      ]
     },
     "metadata": {
      "needs_background": "light"
     },
     "output_type": "display_data"
    }
   ],
   "source": [
    "new_list_df = list_df.loc[list_df['host_is_superhost'] == 't']\n",
    "grouped_list_df = new_list_df.groupby('zipcode')['host_is_superhost'].count().sort_values(ascending=False).reset_index()\n",
    "grouped_list_df = grouped_list_df.head(10)\n",
    "grouped_list_df = grouped_list_df.sort_values(by=['zipcode'])\n",
    "\n",
    "sns.barplot(data=grouped_list_df, x='zipcode', y='host_is_superhost')\n",
    "plt.xticks(rotation='vertical')\n",
    "plt.show()"
   ]
  },
  {
   "cell_type": "markdown",
   "metadata": {},
   "source": [
    "From above plot, we can say that (H2Y, H3B, H2X, H2Y 0A8, H2L) area have high number of superhost."
   ]
  },
  {
   "cell_type": "markdown",
   "metadata": {},
   "source": [
    "Overall, we cay that (H2X, H2Y 0A8, H3B) are some of the zipcode areas where anyone can find best rooms based on customer reviews and superhost availability."
   ]
  },
  {
   "cell_type": "markdown",
   "metadata": {},
   "source": [
    "### Is there any similar type of listing available?"
   ]
  },
  {
   "cell_type": "markdown",
   "metadata": {},
   "source": [
    "### Reading dataset"
   ]
  },
  {
   "cell_type": "code",
   "execution_count": 21,
   "metadata": {},
   "outputs": [
    {
     "data": {
      "text/html": [
       "<div>\n",
       "<style scoped>\n",
       "    .dataframe tbody tr th:only-of-type {\n",
       "        vertical-align: middle;\n",
       "    }\n",
       "\n",
       "    .dataframe tbody tr th {\n",
       "        vertical-align: top;\n",
       "    }\n",
       "\n",
       "    .dataframe thead th {\n",
       "        text-align: right;\n",
       "    }\n",
       "</style>\n",
       "<table border=\"1\" class=\"dataframe\">\n",
       "  <thead>\n",
       "    <tr style=\"text-align: right;\">\n",
       "      <th></th>\n",
       "      <th>id</th>\n",
       "      <th>listing_url</th>\n",
       "      <th>scrape_id</th>\n",
       "      <th>last_scraped</th>\n",
       "      <th>name</th>\n",
       "      <th>summary</th>\n",
       "      <th>space</th>\n",
       "      <th>description</th>\n",
       "      <th>experiences_offered</th>\n",
       "      <th>neighborhood_overview</th>\n",
       "      <th>...</th>\n",
       "      <th>instant_bookable</th>\n",
       "      <th>is_business_travel_ready</th>\n",
       "      <th>cancellation_policy</th>\n",
       "      <th>require_guest_profile_picture</th>\n",
       "      <th>require_guest_phone_verification</th>\n",
       "      <th>calculated_host_listings_count</th>\n",
       "      <th>calculated_host_listings_count_entire_homes</th>\n",
       "      <th>calculated_host_listings_count_private_rooms</th>\n",
       "      <th>calculated_host_listings_count_shared_rooms</th>\n",
       "      <th>reviews_per_month</th>\n",
       "    </tr>\n",
       "  </thead>\n",
       "  <tbody>\n",
       "    <tr>\n",
       "      <th>0</th>\n",
       "      <td>2078</td>\n",
       "      <td>https://www.airbnb.com/rooms/2078</td>\n",
       "      <td>20190311061246</td>\n",
       "      <td>2019-03-11</td>\n",
       "      <td>Central comfy close to Metro Laurie</td>\n",
       "      <td>Centrally located in trendy Le Plateau.   Join...</td>\n",
       "      <td>Centrally located  clean comfy furnished room ...</td>\n",
       "      <td>Centrally located in trendy Le Plateau.   Join...</td>\n",
       "      <td>none</td>\n",
       "      <td>Although my place is centrally located in Le P...</td>\n",
       "      <td>...</td>\n",
       "      <td>t</td>\n",
       "      <td>f</td>\n",
       "      <td>flexible</td>\n",
       "      <td>f</td>\n",
       "      <td>f</td>\n",
       "      <td>1</td>\n",
       "      <td>0</td>\n",
       "      <td>1</td>\n",
       "      <td>0</td>\n",
       "      <td>2.68</td>\n",
       "    </tr>\n",
       "    <tr>\n",
       "      <th>1</th>\n",
       "      <td>2843</td>\n",
       "      <td>https://www.airbnb.com/rooms/2843</td>\n",
       "      <td>20190311061246</td>\n",
       "      <td>2019-03-11</td>\n",
       "      <td>Fabulous downtown room</td>\n",
       "      <td>Come stay in this trendy area of downtown Mont...</td>\n",
       "      <td>Private individual room, double bed, desk, goo...</td>\n",
       "      <td>Come stay in this trendy area of downtown Mont...</td>\n",
       "      <td>none</td>\n",
       "      <td>This area of St Henri is actually downtown Mon...</td>\n",
       "      <td>...</td>\n",
       "      <td>t</td>\n",
       "      <td>f</td>\n",
       "      <td>moderate</td>\n",
       "      <td>f</td>\n",
       "      <td>f</td>\n",
       "      <td>6</td>\n",
       "      <td>3</td>\n",
       "      <td>3</td>\n",
       "      <td>0</td>\n",
       "      <td>0.96</td>\n",
       "    </tr>\n",
       "    <tr>\n",
       "      <th>2</th>\n",
       "      <td>14584</td>\n",
       "      <td>https://www.airbnb.com/rooms/14584</td>\n",
       "      <td>20190311061246</td>\n",
       "      <td>2019-03-11</td>\n",
       "      <td>Spread Out in 1,200 Square Feet of Luxury in t...</td>\n",
       "      <td>This stylish and spacious loft has modern artw...</td>\n",
       "      <td>It's artistic and tasteful with a modern touch...</td>\n",
       "      <td>This stylish and spacious loft has modern artw...</td>\n",
       "      <td>none</td>\n",
       "      <td>This chic apartment can be found in the Platea...</td>\n",
       "      <td>...</td>\n",
       "      <td>f</td>\n",
       "      <td>f</td>\n",
       "      <td>strict_14_with_grace_period</td>\n",
       "      <td>f</td>\n",
       "      <td>f</td>\n",
       "      <td>1</td>\n",
       "      <td>1</td>\n",
       "      <td>0</td>\n",
       "      <td>0</td>\n",
       "      <td>1.50</td>\n",
       "    </tr>\n",
       "    <tr>\n",
       "      <th>3</th>\n",
       "      <td>29059</td>\n",
       "      <td>https://www.airbnb.com/rooms/29059</td>\n",
       "      <td>20190311061246</td>\n",
       "      <td>2019-03-11</td>\n",
       "      <td>Lovely studio Quartier Latin</td>\n",
       "      <td>Lovely studio with 1 closed room, near everyth...</td>\n",
       "      <td>Lovely studio with 1 closed room, near everyth...</td>\n",
       "      <td>Lovely studio with 1 closed room, near everyth...</td>\n",
       "      <td>none</td>\n",
       "      <td>CENTRAL est le mot d'ordre : tout est proche. ...</td>\n",
       "      <td>...</td>\n",
       "      <td>f</td>\n",
       "      <td>f</td>\n",
       "      <td>moderate</td>\n",
       "      <td>f</td>\n",
       "      <td>f</td>\n",
       "      <td>2</td>\n",
       "      <td>2</td>\n",
       "      <td>0</td>\n",
       "      <td>0</td>\n",
       "      <td>2.57</td>\n",
       "    </tr>\n",
       "    <tr>\n",
       "      <th>4</th>\n",
       "      <td>29061</td>\n",
       "      <td>https://www.airbnb.com/rooms/29061</td>\n",
       "      <td>20190311061246</td>\n",
       "      <td>2019-03-11</td>\n",
       "      <td>Maison historique - Quartier Latin</td>\n",
       "      <td>Charmante maison au coeur du Quartier Latin et...</td>\n",
       "      <td>Lovely historic house with plenty of period ch...</td>\n",
       "      <td>Charmante maison au coeur du Quartier Latin et...</td>\n",
       "      <td>none</td>\n",
       "      <td>Le quartier que vous découvrirez se nomme le Q...</td>\n",
       "      <td>...</td>\n",
       "      <td>t</td>\n",
       "      <td>f</td>\n",
       "      <td>moderate</td>\n",
       "      <td>f</td>\n",
       "      <td>f</td>\n",
       "      <td>2</td>\n",
       "      <td>2</td>\n",
       "      <td>0</td>\n",
       "      <td>0</td>\n",
       "      <td>0.52</td>\n",
       "    </tr>\n",
       "  </tbody>\n",
       "</table>\n",
       "<p>5 rows × 106 columns</p>\n",
       "</div>"
      ],
      "text/plain": [
       "      id                         listing_url       scrape_id last_scraped  \\\n",
       "0   2078   https://www.airbnb.com/rooms/2078  20190311061246   2019-03-11   \n",
       "1   2843   https://www.airbnb.com/rooms/2843  20190311061246   2019-03-11   \n",
       "2  14584  https://www.airbnb.com/rooms/14584  20190311061246   2019-03-11   \n",
       "3  29059  https://www.airbnb.com/rooms/29059  20190311061246   2019-03-11   \n",
       "4  29061  https://www.airbnb.com/rooms/29061  20190311061246   2019-03-11   \n",
       "\n",
       "                                                name  \\\n",
       "0                Central comfy close to Metro Laurie   \n",
       "1                             Fabulous downtown room   \n",
       "2  Spread Out in 1,200 Square Feet of Luxury in t...   \n",
       "3                       Lovely studio Quartier Latin   \n",
       "4                 Maison historique - Quartier Latin   \n",
       "\n",
       "                                             summary  \\\n",
       "0  Centrally located in trendy Le Plateau.   Join...   \n",
       "1  Come stay in this trendy area of downtown Mont...   \n",
       "2  This stylish and spacious loft has modern artw...   \n",
       "3  Lovely studio with 1 closed room, near everyth...   \n",
       "4  Charmante maison au coeur du Quartier Latin et...   \n",
       "\n",
       "                                               space  \\\n",
       "0  Centrally located  clean comfy furnished room ...   \n",
       "1  Private individual room, double bed, desk, goo...   \n",
       "2  It's artistic and tasteful with a modern touch...   \n",
       "3  Lovely studio with 1 closed room, near everyth...   \n",
       "4  Lovely historic house with plenty of period ch...   \n",
       "\n",
       "                                         description experiences_offered  \\\n",
       "0  Centrally located in trendy Le Plateau.   Join...                none   \n",
       "1  Come stay in this trendy area of downtown Mont...                none   \n",
       "2  This stylish and spacious loft has modern artw...                none   \n",
       "3  Lovely studio with 1 closed room, near everyth...                none   \n",
       "4  Charmante maison au coeur du Quartier Latin et...                none   \n",
       "\n",
       "                               neighborhood_overview  ... instant_bookable  \\\n",
       "0  Although my place is centrally located in Le P...  ...                t   \n",
       "1  This area of St Henri is actually downtown Mon...  ...                t   \n",
       "2  This chic apartment can be found in the Platea...  ...                f   \n",
       "3  CENTRAL est le mot d'ordre : tout est proche. ...  ...                f   \n",
       "4  Le quartier que vous découvrirez se nomme le Q...  ...                t   \n",
       "\n",
       "  is_business_travel_ready          cancellation_policy  \\\n",
       "0                        f                     flexible   \n",
       "1                        f                     moderate   \n",
       "2                        f  strict_14_with_grace_period   \n",
       "3                        f                     moderate   \n",
       "4                        f                     moderate   \n",
       "\n",
       "  require_guest_profile_picture require_guest_phone_verification  \\\n",
       "0                             f                                f   \n",
       "1                             f                                f   \n",
       "2                             f                                f   \n",
       "3                             f                                f   \n",
       "4                             f                                f   \n",
       "\n",
       "   calculated_host_listings_count  \\\n",
       "0                               1   \n",
       "1                               6   \n",
       "2                               1   \n",
       "3                               2   \n",
       "4                               2   \n",
       "\n",
       "   calculated_host_listings_count_entire_homes  \\\n",
       "0                                            0   \n",
       "1                                            3   \n",
       "2                                            1   \n",
       "3                                            2   \n",
       "4                                            2   \n",
       "\n",
       "  calculated_host_listings_count_private_rooms  \\\n",
       "0                                            1   \n",
       "1                                            3   \n",
       "2                                            0   \n",
       "3                                            0   \n",
       "4                                            0   \n",
       "\n",
       "   calculated_host_listings_count_shared_rooms  reviews_per_month  \n",
       "0                                            0               2.68  \n",
       "1                                            0               0.96  \n",
       "2                                            0               1.50  \n",
       "3                                            0               2.57  \n",
       "4                                            0               0.52  \n",
       "\n",
       "[5 rows x 106 columns]"
      ]
     },
     "execution_count": 21,
     "metadata": {},
     "output_type": "execute_result"
    }
   ],
   "source": [
    "list_df = pd.read_csv('./dataset/listings.csv')\n",
    "list_df.head()"
   ]
  },
  {
   "cell_type": "markdown",
   "metadata": {},
   "source": [
    "### Changing data type of attributes\n",
    "Here, I will only use 'name' and 'description' attribute for the feature extraction. I will use TfidfVectorizer which will compute the bag of word count and tfidf values."
   ]
  },
  {
   "cell_type": "code",
   "execution_count": 22,
   "metadata": {},
   "outputs": [
    {
     "data": {
      "text/html": [
       "<div>\n",
       "<style scoped>\n",
       "    .dataframe tbody tr th:only-of-type {\n",
       "        vertical-align: middle;\n",
       "    }\n",
       "\n",
       "    .dataframe tbody tr th {\n",
       "        vertical-align: top;\n",
       "    }\n",
       "\n",
       "    .dataframe thead th {\n",
       "        text-align: right;\n",
       "    }\n",
       "</style>\n",
       "<table border=\"1\" class=\"dataframe\">\n",
       "  <thead>\n",
       "    <tr style=\"text-align: right;\">\n",
       "      <th></th>\n",
       "      <th>id</th>\n",
       "      <th>name</th>\n",
       "      <th>description</th>\n",
       "    </tr>\n",
       "  </thead>\n",
       "  <tbody>\n",
       "    <tr>\n",
       "      <th>0</th>\n",
       "      <td>2078</td>\n",
       "      <td>Central comfy close to Metro Laurie</td>\n",
       "      <td>Centrally located in trendy Le Plateau.   Join...</td>\n",
       "    </tr>\n",
       "    <tr>\n",
       "      <th>1</th>\n",
       "      <td>2843</td>\n",
       "      <td>Fabulous downtown room</td>\n",
       "      <td>Come stay in this trendy area of downtown Mont...</td>\n",
       "    </tr>\n",
       "    <tr>\n",
       "      <th>2</th>\n",
       "      <td>14584</td>\n",
       "      <td>Spread Out in 1,200 Square Feet of Luxury in t...</td>\n",
       "      <td>This stylish and spacious loft has modern artw...</td>\n",
       "    </tr>\n",
       "    <tr>\n",
       "      <th>3</th>\n",
       "      <td>29059</td>\n",
       "      <td>Lovely studio Quartier Latin</td>\n",
       "      <td>Lovely studio with 1 closed room, near everyth...</td>\n",
       "    </tr>\n",
       "    <tr>\n",
       "      <th>4</th>\n",
       "      <td>29061</td>\n",
       "      <td>Maison historique - Quartier Latin</td>\n",
       "      <td>Charmante maison au coeur du Quartier Latin et...</td>\n",
       "    </tr>\n",
       "  </tbody>\n",
       "</table>\n",
       "</div>"
      ],
      "text/plain": [
       "      id                                               name  \\\n",
       "0   2078                Central comfy close to Metro Laurie   \n",
       "1   2843                             Fabulous downtown room   \n",
       "2  14584  Spread Out in 1,200 Square Feet of Luxury in t...   \n",
       "3  29059                       Lovely studio Quartier Latin   \n",
       "4  29061                 Maison historique - Quartier Latin   \n",
       "\n",
       "                                         description  \n",
       "0  Centrally located in trendy Le Plateau.   Join...  \n",
       "1  Come stay in this trendy area of downtown Mont...  \n",
       "2  This stylish and spacious loft has modern artw...  \n",
       "3  Lovely studio with 1 closed room, near everyth...  \n",
       "4  Charmante maison au coeur du Quartier Latin et...  "
      ]
     },
     "execution_count": 22,
     "metadata": {},
     "output_type": "execute_result"
    }
   ],
   "source": [
    "new_df = list_df[['id', 'name', 'description']]\n",
    "\n",
    "# storing the name attribute as str dtype\n",
    "list_df['name'] = list_df['name'].astype('str')\n",
    "list_df['description'] = list_df['description'].astype('str')\n",
    "\n",
    "new_df.head()"
   ]
  },
  {
   "cell_type": "markdown",
   "metadata": {},
   "source": [
    "### Checking for any null values"
   ]
  },
  {
   "cell_type": "code",
   "execution_count": 23,
   "metadata": {},
   "outputs": [
    {
     "data": {
      "text/plain": [
       "id               0\n",
       "name            19\n",
       "description    354\n",
       "dtype: int64"
      ]
     },
     "execution_count": 23,
     "metadata": {},
     "output_type": "execute_result"
    }
   ],
   "source": [
    "new_df.isnull().sum()"
   ]
  },
  {
   "cell_type": "markdown",
   "metadata": {},
   "source": [
    "### Combining the name and description attribute"
   ]
  },
  {
   "cell_type": "code",
   "execution_count": 24,
   "metadata": {},
   "outputs": [
    {
     "name": "stderr",
     "output_type": "stream",
     "text": [
      "/home/rajat/anaconda3/lib/python3.7/site-packages/ipykernel_launcher.py:1: SettingWithCopyWarning: \n",
      "A value is trying to be set on a copy of a slice from a DataFrame.\n",
      "Try using .loc[row_indexer,col_indexer] = value instead\n",
      "\n",
      "See the caveats in the documentation: http://pandas.pydata.org/pandas-docs/stable/indexing.html#indexing-view-versus-copy\n",
      "  \"\"\"Entry point for launching an IPython kernel.\n"
     ]
    },
    {
     "data": {
      "text/html": [
       "<div>\n",
       "<style scoped>\n",
       "    .dataframe tbody tr th:only-of-type {\n",
       "        vertical-align: middle;\n",
       "    }\n",
       "\n",
       "    .dataframe tbody tr th {\n",
       "        vertical-align: top;\n",
       "    }\n",
       "\n",
       "    .dataframe thead th {\n",
       "        text-align: right;\n",
       "    }\n",
       "</style>\n",
       "<table border=\"1\" class=\"dataframe\">\n",
       "  <thead>\n",
       "    <tr style=\"text-align: right;\">\n",
       "      <th></th>\n",
       "      <th>id</th>\n",
       "      <th>content</th>\n",
       "    </tr>\n",
       "  </thead>\n",
       "  <tbody>\n",
       "    <tr>\n",
       "      <th>0</th>\n",
       "      <td>2078</td>\n",
       "      <td>Central comfy close to Metro Laurie // Central...</td>\n",
       "    </tr>\n",
       "    <tr>\n",
       "      <th>1</th>\n",
       "      <td>2843</td>\n",
       "      <td>Fabulous downtown room // Come stay in this tr...</td>\n",
       "    </tr>\n",
       "    <tr>\n",
       "      <th>2</th>\n",
       "      <td>14584</td>\n",
       "      <td>Spread Out in 1,200 Square Feet of Luxury in t...</td>\n",
       "    </tr>\n",
       "    <tr>\n",
       "      <th>3</th>\n",
       "      <td>29059</td>\n",
       "      <td>Lovely studio Quartier Latin // Lovely studio ...</td>\n",
       "    </tr>\n",
       "    <tr>\n",
       "      <th>4</th>\n",
       "      <td>29061</td>\n",
       "      <td>Maison historique - Quartier Latin // Charmant...</td>\n",
       "    </tr>\n",
       "  </tbody>\n",
       "</table>\n",
       "</div>"
      ],
      "text/plain": [
       "      id                                            content\n",
       "0   2078  Central comfy close to Metro Laurie // Central...\n",
       "1   2843  Fabulous downtown room // Come stay in this tr...\n",
       "2  14584  Spread Out in 1,200 Square Feet of Luxury in t...\n",
       "3  29059  Lovely studio Quartier Latin // Lovely studio ...\n",
       "4  29061  Maison historique - Quartier Latin // Charmant..."
      ]
     },
     "execution_count": 24,
     "metadata": {},
     "output_type": "execute_result"
    }
   ],
   "source": [
    "new_df['content'] = new_df[['name', 'description']].astype(str).apply(lambda x: ' // '.join(x), axis = 1)\n",
    "\n",
    "# dropping name and description attribute\n",
    "new_df = new_df.drop(['name', 'description'], axis=1)\n",
    "\n",
    "new_df.head()"
   ]
  },
  {
   "cell_type": "markdown",
   "metadata": {},
   "source": [
    "### Creating matrix of Tf-idf features"
   ]
  },
  {
   "cell_type": "code",
   "execution_count": 25,
   "metadata": {},
   "outputs": [],
   "source": [
    "from sklearn.feature_extraction.text import TfidfVectorizer\n",
    "\n",
    "tf = TfidfVectorizer()\n",
    "tf_matrix = tf.fit_transform(new_df['content'])"
   ]
  },
  {
   "cell_type": "markdown",
   "metadata": {},
   "source": [
    "### Calculating the similarity of documents using tf_matrix"
   ]
  },
  {
   "cell_type": "code",
   "execution_count": 26,
   "metadata": {},
   "outputs": [],
   "source": [
    "from sklearn.metrics.pairwise import linear_kernel\n",
    "\n",
    "cosine_similarities = linear_kernel(tf_matrix, tf_matrix)"
   ]
  },
  {
   "cell_type": "markdown",
   "metadata": {},
   "source": [
    "### Creating dictionary storing the similarity measures for each listing."
   ]
  },
  {
   "cell_type": "code",
   "execution_count": 27,
   "metadata": {},
   "outputs": [],
   "source": [
    "results = {}\n",
    "for idx, row in new_df.iterrows():\n",
    "    similar_indices = cosine_similarities[idx].argsort()[:-100:-1]\n",
    "    similar_items = [(cosine_similarities[idx][i], new_df['id'][i]) for i in similar_indices]\n",
    "    results[row['id']] = similar_items[1:]\n",
    "    \n",
    "results"
   ]
  },
  {
   "cell_type": "markdown",
   "metadata": {},
   "source": [
    "### Function for recommending similar listing"
   ]
  },
  {
   "cell_type": "code",
   "execution_count": 29,
   "metadata": {},
   "outputs": [],
   "source": [
    "def item(id):\n",
    "    name   = new_df.loc[new_df['id'] == id]['content'].tolist()[0].split(' // ')[0]\n",
    "    desc   = ' \\nDescription: ' + new_df.loc[new_df['id'] == id]['content'].tolist()[0].split(' // ')[1][0:165] + '...'\n",
    "    prediction = name  + desc\n",
    "    return prediction\n",
    "\n",
    "def recommend(item_id, num):\n",
    "    print('Recommending ' + str(num) + ' products similar to ' + item(item_id))\n",
    "    print('---')\n",
    "    recs = results[item_id][:num]\n",
    "    for rec in recs:\n",
    "        print('\\nRecommended: ' + item(rec[1]) + '\\n(score:' + str(rec[0]) + ')')"
   ]
  },
  {
   "cell_type": "code",
   "execution_count": 30,
   "metadata": {
    "scrolled": true
   },
   "outputs": [
    {
     "name": "stdout",
     "output_type": "stream",
     "text": [
      "Recommending 5 products similar to Maison historique - Quartier Latin \n",
      "Description: Charmante maison au coeur du Quartier Latin et proche de toutes les activités touristiques. Cette maison vous charmera par son caractère historique, elle fait partie...\n",
      "---\n",
      "\n",
      "Recommended: Maison de ville dans le Sud ouest de Montréal \n",
      "Description: Belle maison ancestrale chaleureuse au coeur de Montréal dans le Sud ouest. Quartier paisible avec beaucoup d'arbres. À proximité du canal Lachine, du marché Atwater...\n",
      "(score:0.3188891065189876)\n",
      "\n",
      "Recommended: maison en ville avec jardin \n",
      "Description: C'est une maison pleine de charme, comportant un rez-de-chaussée  avec sous-sol, agrémentée d'un jardin très ensoleillé où il fait bon relaxer au son du jet d'eau et...\n",
      "(score:0.31623196743062615)\n",
      "\n",
      "Recommended: cosy house- heart of Montreal- family friendly \n",
      "Description: Gorgeous house in the heart of Montreal: Free private parking, view, AC, Wifi, in a quiet residential area with a large sunny backyard. A real peace of mind! Everyth...\n",
      "(score:0.314165197890486)\n",
      "\n",
      "Recommended: Chambre dans le quartier latin \n",
      "Description: Bonjour visiteurs du Québec ! Voici 2 petite chambre dans un grand appartement de 8 pièces pendant la période des fêtes dans le quartier latin de Montréal et à 3 min...\n",
      "(score:0.3118449416188679)\n",
      "\n",
      "Recommended: Jolie maison avec jardin à Montréal! \n",
      "Description: Si vous aimez la tranquillité tout en étant proche de multiples activités, vous aimerez séjourner dans notre charmante maison. Située dans le quartier pointe Saint-C...\n",
      "(score:0.3078172807672747)\n"
     ]
    }
   ],
   "source": [
    "recommend(item_id = 29061, num = 5)"
   ]
  },
  {
   "cell_type": "code",
   "execution_count": null,
   "metadata": {},
   "outputs": [],
   "source": []
  }
 ],
 "metadata": {
  "kernelspec": {
   "display_name": "Python 3",
   "language": "python",
   "name": "python3"
  },
  "language_info": {
   "codemirror_mode": {
    "name": "ipython",
    "version": 3
   },
   "file_extension": ".py",
   "mimetype": "text/x-python",
   "name": "python",
   "nbconvert_exporter": "python",
   "pygments_lexer": "ipython3",
   "version": "3.7.2"
  }
 },
 "nbformat": 4,
 "nbformat_minor": 2
}
